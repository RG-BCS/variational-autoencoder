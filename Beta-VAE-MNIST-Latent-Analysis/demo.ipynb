{
  "cells": [
    {
      "cell_type": "markdown",
      "metadata": {
        "id": "zME5j7wi0812"
      },
      "source": [
        "# Beta-VAE on MNIST: Latent Space Analysis\n",
        "\n",
        "This notebook demonstrates training a Beta-VAE (without convolutional layers) on the MNIST dataset, and analyzing the learned latent space through visualization, clustering, and t-SNE."
      ]
    },
    {
      "cell_type": "code",
      "execution_count": null,
      "metadata": {
        "id": "9HmkcK1C082B"
      },
      "outputs": [],
      "source": [
        "# Imports\n",
        "import numpy as np\n",
        "import tensorflow as tf\n",
        "from tensorflow import keras\n",
        "import matplotlib.pyplot as plt\n",
        "from sklearn.manifold import TSNE\n",
        "from sklearn.metrics import confusion_matrix\n",
        "from sklearn.cluster import KMeans\n",
        "import seaborn as sns\n",
        "from model import NonConv_VAE\n",
        "from utils import plot_latent_distribution, plot_generated_images, train_vae, compute_total_loss, relabel_clusters"
      ]
    },
    {
      "cell_type": "code",
      "execution_count": null,
      "metadata": {
        "id": "cX3OKfYj082E"
      },
      "outputs": [],
      "source": [
        "# Reproducibility\n",
        "seed = 20\n",
        "keras.backend.clear_session()\n",
        "tf.random.set_seed(seed)\n",
        "np.random.seed(seed)"
      ]
    },
    {
      "cell_type": "code",
      "execution_count": null,
      "metadata": {
        "id": "FYucfu21082E"
      },
      "outputs": [],
      "source": [
        "# Hyperparameters\n",
        "num_epochs = 30\n",
        "latent_dim = 10\n",
        "LOSS_TYPE = 'bce'\n",
        "BETA_SCHEDULE = 'linear'\n",
        "LEARNING_RATE = 1e-3\n",
        "MAX_BETA = 1.0"
      ]
    },
    {
      "cell_type": "code",
      "execution_count": null,
      "metadata": {
        "id": "XdujCUx3082F"
      },
      "outputs": [],
      "source": [
        "# Load and preprocess MNIST\n",
        "(x_train, y_train), (x_test, y_test) = keras.datasets.mnist.load_data()\n",
        "image_size = x_train.shape[1] * x_train.shape[2]\n",
        "x_train = x_train.reshape(-1, image_size).astype(\"float32\") / 255\n",
        "x_test = x_test.reshape(-1, image_size).astype(\"float32\") / 255"
      ]
    },
    {
      "cell_type": "code",
      "execution_count": null,
      "metadata": {
        "id": "JJQcEhzG082G"
      },
      "outputs": [],
      "source": [
        "# Create dataloaders\n",
        "batch_size = 32\n",
        "x_train_dl = tf.data.Dataset.from_tensor_slices(x_train).shuffle(1000).batch(batch_size)\n",
        "x_test_dl = tf.data.Dataset.from_tensor_slices(x_test).batch(batch_size)"
      ]
    },
    {
      "cell_type": "code",
      "execution_count": null,
      "metadata": {
        "id": "uYvJ-9aB082H"
      },
      "outputs": [],
      "source": [
        "# Initialize model and optimizer\n",
        "vae_model = NonConv_VAE(latent_dim=latent_dim)\n",
        "optimizer = keras.optimizers.Adam(LEARNING_RATE)"
      ]
    },
    {
      "cell_type": "markdown",
      "metadata": {
        "id": "iy2FnNUh082J"
      },
      "source": [
        "## Latent Space (Before Training)"
      ]
    },
    {
      "cell_type": "code",
      "execution_count": null,
      "metadata": {
        "id": "jjTFcZVi082K"
      },
      "outputs": [],
      "source": [
        "plot_latent_distribution(vae_model, x_test, y_test, batch_size=100, title='Before Training')"
      ]
    },
    {
      "cell_type": "markdown",
      "metadata": {
        "id": "Kh2tqNrb082L"
      },
      "source": [
        "## Train Beta-VAE"
      ]
    },
    {
      "cell_type": "code",
      "execution_count": null,
      "metadata": {
        "id": "FdWp3ZCs082M"
      },
      "outputs": [],
      "source": [
        "recon_losses, kl_losses, grad_norms = train_vae(\n",
        "    vae_model, optimizer, x_train_dl, num_epochs, compute_total_loss,\n",
        "    free_bits=0.5, max_beta=MAX_BETA, beta_schedule=BETA_SCHEDULE, loss_type=LOSS_TYPE\n",
        ")"
      ]
    },
    {
      "cell_type": "code",
      "execution_count": null,
      "metadata": {
        "id": "dQlw0Ay2082N"
      },
      "outputs": [],
      "source": [
        "plt.plot(recon_losses, label='Reconstruction Loss')\n",
        "plt.plot(kl_losses, label='KL Divergence')\n",
        "plt.xlabel('Epoch')\n",
        "plt.ylabel('Loss')\n",
        "plt.legend()\n",
        "plt.grid(True)\n",
        "plt.title(\"Training Loss Curves\")\n",
        "plt.show()"
      ]
    },
    {
      "cell_type": "markdown",
      "metadata": {
        "id": "ZCjAKiGf082N"
      },
      "source": [
        "## Clustering in Latent Space"
      ]
    },
    {
      "cell_type": "code",
      "execution_count": null,
      "metadata": {
        "id": "pTaMB6vv082N"
      },
      "outputs": [],
      "source": [
        "_, z_mean, _, _ = vae_model.predict(x_test, batch_size=100, verbose=0)\n",
        "\n",
        "kmeans = KMeans(n_clusters=10, random_state=0, n_init='auto')\n",
        "y_pred = kmeans.fit_predict(z_mean)\n",
        "y_pred_relabel = relabel_clusters(y_pred, y_test)"
      ]
    },
    {
      "cell_type": "code",
      "execution_count": null,
      "metadata": {
        "id": "lUcvVslK082O"
      },
      "outputs": [],
      "source": [
        "# Latent space clusters\n",
        "plt.figure(figsize=(10, 6))\n",
        "plt.scatter(z_mean[:, 0], z_mean[:, 1], c=y_pred_relabel, cmap=\"tab10\", s=5)\n",
        "plt.title(\"K-means Clustering in Latent Space (Relabeled)\")\n",
        "plt.xlabel(\"z[0]\")\n",
        "plt.ylabel(\"z[1]\")\n",
        "plt.grid(True)\n",
        "plt.show()"
      ]
    },
    {
      "cell_type": "code",
      "execution_count": null,
      "metadata": {
        "id": "tNa3h_9j082O"
      },
      "outputs": [],
      "source": [
        "# Confusion Matrix\n",
        "conf_mat = confusion_matrix(y_test, y_pred_relabel)\n",
        "plt.figure(figsize=(8, 6))\n",
        "sns.heatmap(conf_mat, annot=True, fmt=\"d\", cmap=\"Blues\")\n",
        "plt.title(\"Confusion Matrix: True vs. K-means Clusters\")\n",
        "plt.xlabel(\"Predicted Label\")\n",
        "plt.ylabel(\"True Label\")\n",
        "plt.show()"
      ]
    },
    {
      "cell_type": "markdown",
      "metadata": {
        "id": "LrYhr4oI082O"
      },
      "source": [
        "## t-SNE Projection of Latent Space"
      ]
    },
    {
      "cell_type": "code",
      "execution_count": null,
      "metadata": {
        "id": "homzJ8T5082P"
      },
      "outputs": [],
      "source": [
        "tsne = TSNE(n_components=2, random_state=0, perplexity=30)\n",
        "z_tsne = tsne.fit_transform(z_mean)\n",
        "\n",
        "plt.figure(figsize=(10, 6))\n",
        "plt.scatter(z_tsne[:, 0], z_tsne[:, 1], c=y_test, cmap=\"tab10\", s=5)\n",
        "plt.title(\"t-SNE Projection of Latent Space\")\n",
        "plt.xlabel(\"Component 1\")\n",
        "plt.ylabel(\"Component 2\")\n",
        "plt.grid(True)\n",
        "plt.show()"
      ]
    },
    {
      "cell_type": "markdown",
      "metadata": {
        "id": "78VS_cGX082P"
      },
      "source": [
        "## Latent Space (After Training)"
      ]
    },
    {
      "cell_type": "code",
      "execution_count": null,
      "metadata": {
        "id": "cAehNLvo082P"
      },
      "outputs": [],
      "source": [
        "plot_latent_distribution(vae_model, x_test, y_test, batch_size=100, title='After Training')"
      ]
    },
    {
      "cell_type": "markdown",
      "metadata": {
        "id": "HIEbjI9c082P"
      },
      "source": [
        "## Visualize Generated Digits from Latent Space"
      ]
    },
    {
      "cell_type": "code",
      "execution_count": null,
      "metadata": {
        "id": "fyiMeVd3082Q"
      },
      "outputs": [],
      "source": [
        "plot_generated_images(vae_model.decode, latent_dim=latent_dim)"
      ]
    }
  ],
  "metadata": {
    "kernelspec": {
      "display_name": "Python 3",
      "language": "python",
      "name": "python3"
    },
    "language_info": {
      "name": "python",
      "version": ""
    },
    "colab": {
      "provenance": []
    }
  },
  "nbformat": 4,
  "nbformat_minor": 0
}